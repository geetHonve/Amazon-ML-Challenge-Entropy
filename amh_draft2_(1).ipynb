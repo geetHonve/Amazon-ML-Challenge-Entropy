{
  "metadata": {
    "kernelspec": {
      "language": "python",
      "display_name": "Python 3",
      "name": "python3"
    },
    "language_info": {
      "pygments_lexer": "ipython3",
      "nbconvert_exporter": "python",
      "version": "3.6.4",
      "file_extension": ".py",
      "codemirror_mode": {
        "name": "ipython",
        "version": 3
      },
      "name": "python",
      "mimetype": "text/x-python"
    },
    "colab": {
      "provenance": []
    }
  },
  "nbformat_minor": 0,
  "nbformat": 4,
  "cells": [
    {
      "cell_type": "code",
      "source": [
        "import tensorflow as tf"
      ],
      "metadata": {
        "id": "RhwLlFIFIqCE",
        "trusted": true
      },
      "execution_count": null,
      "outputs": []
    },
    {
      "cell_type": "code",
      "source": [
        "!wget https://s3-ap-southeast-1.amazonaws.com/he-public-data/datasetb2d9982.zip"
      ],
      "metadata": {
        "id": "P9kLMmOm5PNW",
        "trusted": true
      },
      "execution_count": null,
      "outputs": []
    },
    {
      "cell_type": "code",
      "source": [
        "!unzip datasetb2d9982.zip"
      ],
      "metadata": {
        "id": "3XmOzj0V5SYs",
        "trusted": true
      },
      "execution_count": null,
      "outputs": []
    },
    {
      "cell_type": "code",
      "source": [
        "import pandas as pd\n",
        "train_df = pd.read_csv(\"dataset/train.csv\")"
      ],
      "metadata": {
        "id": "5Da5eHKt5d1D",
        "trusted": true
      },
      "execution_count": null,
      "outputs": []
    },
    {
      "cell_type": "code",
      "source": [
        "!pip install scikit-learn\n",
        "\n",
        "import time\n",
        "import numpy as np\n",
        "import pandas as pd\n",
        "import matplotlib.pyplot as plt\n",
        "from scipy.sparse import csr_matrix, hstack\n",
        "from sklearn.feature_extraction.text import CountVectorizer, TfidfVectorizer\n",
        "from sklearn.preprocessing import LabelBinarizer\n",
        "\n",
        "import warnings\n",
        "warnings.filterwarnings('ignore')\n",
        "\n",
        "import gc\n"
      ],
      "metadata": {
        "id": "pyYJ6b8hmBq9",
        "trusted": true
      },
      "execution_count": null,
      "outputs": []
    },
    {
      "cell_type": "code",
      "source": [
        "train_df.astype('object').describe().transpose()"
      ],
      "metadata": {
        "id": "AOnV0DQwmxY5",
        "trusted": true
      },
      "execution_count": null,
      "outputs": []
    },
    {
      "cell_type": "code",
      "source": [
        "from string import punctuation"
      ],
      "metadata": {
        "id": "h8C77tJvszPA",
        "trusted": true
      },
      "execution_count": null,
      "outputs": []
    },
    {
      "cell_type": "code",
      "source": [
        "punctuation_symbols = []\n",
        "for symbol in punctuation:\n",
        "    punctuation_symbols.append((symbol, ''))"
      ],
      "metadata": {
        "id": "aB97OQO2s1j6",
        "trusted": true
      },
      "execution_count": null,
      "outputs": []
    },
    {
      "cell_type": "code",
      "source": [
        "!pip install nltk\n",
        "import nltk\n",
        "from nltk.corpus import stopwords\n",
        "nltk.download('stopwords')\n",
        "stop = stopwords.words('english')"
      ],
      "metadata": {
        "id": "LeFjUDKSs5ur",
        "trusted": true
      },
      "execution_count": null,
      "outputs": []
    },
    {
      "cell_type": "code",
      "source": [
        "import string\n",
        "def remove_punctuation(sentence: str) -> str:\n",
        "   return sentence.translate(str.maketrans('', '', string.punctuation))\n",
        "\n",
        "def remove_stop_words(x):\n",
        "   x = ' '.join([i for i in x.lower().split(' ') if i not in stop])\n",
        "   return x\n",
        "\n",
        "def to_lower(x):\n",
        "   return x.lower()"
      ],
      "metadata": {
        "id": "k2mdtvgts_Fn",
        "trusted": true
      },
      "execution_count": null,
      "outputs": []
    },
    {
      "cell_type": "code",
      "source": [
        "df_train_reduced = train_df.fillna('')\n",
        "df_train_reduced.shape"
      ],
      "metadata": {
        "id": "fDnjgykktF2h",
        "trusted": true
      },
      "execution_count": null,
      "outputs": []
    },
    {
      "cell_type": "code",
      "source": [
        "from nltk.stem.porter import PorterStemmer\n",
        "porter = PorterStemmer()\n",
        "df_train_reduced['DESCRIPTION'] = df_train_reduced['DESCRIPTION'].apply(porter.stem)\n",
        "\n",
        "df_train_reduced['DESCRIPTION'] = df_train_reduced['DESCRIPTION'].apply(remove_punctuation)\n",
        "df_train_reduced['DESCRIPTION'] = df_train_reduced['DESCRIPTION'].apply(remove_stop_words)\n",
        "df_train_reduced['DESCRIPTION'] = df_train_reduced['DESCRIPTION'].apply(to_lower)\n",
        "\n",
        "\n",
        "df_train_reduced['TITLE'] = df_train_reduced['TITLE'].apply(remove_punctuation)\n",
        "df_train_reduced['TITLE'] = df_train_reduced['TITLE'].apply(remove_stop_words)\n",
        "df_train_reduced['TITLE'] = df_train_reduced['TITLE'].apply(to_lower)\n",
        "\n",
        "df_train_reduced['BULLET_POINTS'] = df_train_reduced['BULLET_POINTS'].apply(porter.stem)\n",
        "df_train_reduced['BULLET_POINTS'] = df_train_reduced['BULLET_POINTS'].apply(remove_punctuation)\n",
        "df_train_reduced['BULLET_POINTS'] = df_train_reduced['BULLET_POINTS'].apply(remove_stop_words)\n",
        "df_train_reduced['BULLET_POINTS'] = df_train_reduced['BULLET_POINTS'].apply(to_lower)"
      ],
      "metadata": {
        "id": "0OBZqxfvtJHS",
        "trusted": true
      },
      "execution_count": null,
      "outputs": []
    },
    {
      "cell_type": "code",
      "source": [
        "from sklearn.feature_extraction.text import CountVectorizer as cv, TfidfVectorizer"
      ],
      "metadata": {
        "id": "RdA1z9yythtL",
        "trusted": true
      },
      "execution_count": null,
      "outputs": []
    },
    {
      "cell_type": "code",
      "source": [
        "from collections import Counter\n",
        "\n",
        "def reducecolumns(Col):\n",
        "    n_docs = Counter(Col.nonzero()[1])\n",
        "    cols_to_keep = [k for k, v in n_docs.items() if v > .001 * Col.shape[0]]\n",
        "    return Col[:, cols_to_keep]"
      ],
      "metadata": {
        "trusted": true,
        "id": "Os1MnL7ntAIs"
      },
      "execution_count": null,
      "outputs": []
    },
    {
      "cell_type": "code",
      "source": [
        "cv = CountVectorizer(min_df=10)\n",
        "X_name = cv.fit_transform(df_train_reduced['TITLE'])"
      ],
      "metadata": {
        "id": "ABhIIsMbtbVK",
        "trusted": true
      },
      "execution_count": null,
      "outputs": []
    },
    {
      "cell_type": "code",
      "source": [
        "tv = TfidfVectorizer(max_features=50000, ngram_range=(1, 2), stop_words='english')\n",
        "X_description = tv.fit_transform(df_train_reduced['DESCRIPTION'])\n",
        "X_bullet = tv.fit_transform(df_train_reduced['BULLET_POINTS'])"
      ],
      "metadata": {
        "id": "FxkFlxOBuJvH",
        "trusted": true
      },
      "execution_count": null,
      "outputs": []
    },
    {
      "cell_type": "code",
      "source": [
        "print(\"Title points Shape: \" + str(reducecolumns(X_name).shape))\n",
        "print(\"Item Description Shape: \" + str(reducecolumns(X_description).shape))\n",
        "print(\"Bullet points Shape: \" + str(reducecolumns(X_bullet).shape))"
      ],
      "metadata": {
        "id": "RFfiLT8qujYh",
        "trusted": true
      },
      "execution_count": null,
      "outputs": []
    },
    {
      "cell_type": "code",
      "source": [
        "tfidf_weights = dict(zip(tv.get_feature_names_out(), tv.idf_))\n",
        "tfidf_weights = pd.DataFrame(columns = ['tfidf_weights']).from_dict(dict(tfidf_weights), orient = 'index')\n",
        "tfidf_weights.columns = ['tfidf_weights']\n",
        "\n",
        "tfidf_weights.sort_values(by=['tfidf_weights'], ascending=True)"
      ],
      "metadata": {
        "id": "ja5RuLRIumtu",
        "trusted": true
      },
      "execution_count": null,
      "outputs": []
    },
    {
      "cell_type": "code",
      "source": [
        "sparse_merge = hstack((reducecolumns(X_description), reducecolumns(X_bullet), reducecolumns(X_name))).tocsr()\n",
        "print(sparse_merge.shape)"
      ],
      "metadata": {
        "id": "CpGmAi_rvDjW",
        "trusted": true
      },
      "execution_count": null,
      "outputs": []
    },
    {
      "cell_type": "code",
      "source": [
        "target = np.log(df_train_reduced['PRODUCT_LENGTH']+1)\n",
        "print(target.shape)"
      ],
      "metadata": {
        "id": "9M1s6uTbx5aD",
        "trusted": true
      },
      "execution_count": null,
      "outputs": []
    },
    {
      "cell_type": "code",
      "source": [
        "from sklearn.model_selection import train_test_split\n",
        "features_train, features_test, target_train, target_test = train_test_split(sparse_merge, target, test_size = .35, random_state = 1)\n"
      ],
      "metadata": {
        "id": "qi1ZEyzAykWF",
        "trusted": true
      },
      "execution_count": null,
      "outputs": []
    },
    {
      "cell_type": "code",
      "source": [
        "import keras\n",
        "from keras.models import Sequential\n",
        "from keras.layers import Dense\n",
        "from keras.wrappers.scikit_learn import KerasRegressor"
      ],
      "metadata": {
        "id": "IbE9L1PY0p55",
        "trusted": true
      },
      "execution_count": null,
      "outputs": []
    },
    {
      "cell_type": "code",
      "source": [
        "def regressor_model(): \n",
        "    model = Sequential()\n",
        "    model.add(Dense(units = 7 ,kernel_initializer = 'uniform', activation = 'relu', input_dim = sparse_merge.shape[1]))\n",
        "    model.add(Dense(1, kernel_initializer = 'uniform'))\n",
        "    model.compile(loss='mean_squared_error', optimizer='adam', metrics=['mae'])\n",
        "    return model"
      ],
      "metadata": {
        "id": "78O9s7gh0tXf",
        "trusted": true
      },
      "execution_count": null,
      "outputs": []
    },
    {
      "cell_type": "code",
      "source": [
        "model = KerasRegressor(build_fn= regressor_model, verbose=1)\n"
      ],
      "metadata": {
        "trusted": true,
        "id": "KkK9pXtAtAIt"
      },
      "execution_count": null,
      "outputs": []
    },
    {
      "cell_type": "code",
      "source": [
        "model.fit(features_train.toarray(),target_train)  "
      ],
      "metadata": {
        "id": "yXQz_PUJ0187",
        "trusted": true
      },
      "execution_count": null,
      "outputs": []
    },
    {
      "cell_type": "code",
      "source": [
        "target_pred = model.predict(features_test.toarray())"
      ],
      "metadata": {
        "id": "dzyBmWkK03cI",
        "trusted": true
      },
      "execution_count": null,
      "outputs": []
    },
    {
      "cell_type": "code",
      "source": [
        "features_test.toarray().shape"
      ],
      "metadata": {
        "id": "9NaHaRLncMHi",
        "trusted": true
      },
      "execution_count": null,
      "outputs": []
    },
    {
      "cell_type": "code",
      "source": [
        "target_train"
      ],
      "metadata": {
        "id": "EbzkAflXa_Nv",
        "trusted": true
      },
      "execution_count": null,
      "outputs": []
    },
    {
      "cell_type": "code",
      "source": [
        "model.model.save('saved_model.h5')"
      ],
      "metadata": {
        "trusted": true,
        "id": "uIGpN8NxtAIu"
      },
      "execution_count": null,
      "outputs": []
    },
    {
      "cell_type": "code",
      "source": [
        "target_pred"
      ],
      "metadata": {
        "id": "RuvNC5RVbL7l",
        "trusted": true
      },
      "execution_count": null,
      "outputs": []
    },
    {
      "cell_type": "code",
      "source": [
        "np.expm1(target_pred)"
      ],
      "metadata": {
        "id": "Qq0dQVvceIxV",
        "trusted": true
      },
      "execution_count": null,
      "outputs": []
    },
    {
      "cell_type": "code",
      "source": [
        "from sklearn import metrics"
      ],
      "metadata": {
        "id": "4abSgsMEbrqJ",
        "trusted": true
      },
      "execution_count": null,
      "outputs": []
    },
    {
      "cell_type": "code",
      "source": [
        "score = max( 0 , 100*(1-metrics.mean_absolute_percentage_error(target_test,target_pred)))\n",
        "print(score)"
      ],
      "metadata": {
        "id": "6Ti7M8ghbXjN",
        "trusted": true
      },
      "execution_count": null,
      "outputs": []
    },
    {
      "cell_type": "markdown",
      "source": [
        "TEST"
      ],
      "metadata": {
        "id": "uW8EkCIrtAIv"
      }
    },
    {
      "cell_type": "code",
      "source": [
        "test_df = pd.read_csv(\"dataset/test.csv\")"
      ],
      "metadata": {
        "trusted": true,
        "id": "WiB8m1KPtAIw"
      },
      "execution_count": null,
      "outputs": []
    },
    {
      "cell_type": "code",
      "source": [
        "df_test_reduced = test_df.fillna('')\n",
        "df_test_reduced.shape"
      ],
      "metadata": {
        "trusted": true,
        "id": "Jy0aG-DvtAIw"
      },
      "execution_count": null,
      "outputs": []
    },
    {
      "cell_type": "code",
      "source": [
        "df_test_reduced['DESCRIPTION'] = df_test_reduced['DESCRIPTION'].apply(porter.stem)\n",
        "\n",
        "df_test_reduced['DESCRIPTION'] = df_test_reduced['DESCRIPTION'].apply(remove_punctuation)\n",
        "df_test_reduced['DESCRIPTION'] = df_test_reduced['DESCRIPTION'].apply(remove_stop_words)\n",
        "df_test_reduced['DESCRIPTION'] = df_test_reduced['DESCRIPTION'].apply(to_lower)\n",
        "\n",
        "\n",
        "df_test_reduced['TITLE'] = df_test_reduced['TITLE'].apply(remove_punctuation)\n",
        "df_test_reduced['TITLE'] = df_test_reduced['TITLE'].apply(remove_stop_words)\n",
        "df_test_reduced['TITLE'] = df_test_reduced['TITLE'].apply(to_lower)\n",
        "\n",
        "\n",
        "df_test_reduced['BULLET_POINTS'] = df_test_reduced['BULLET_POINTS'].apply(porter.stem)\n",
        "\n",
        "df_test_reduced['BULLET_POINTS'] = df_test_reduced['BULLET_POINTS'].apply(remove_punctuation)\n",
        "df_test_reduced['BULLET_POINTS'] = df_test_reduced['BULLET_POINTS'].apply(remove_stop_words)\n",
        "df_test_reduced['BULLET_POINTS'] = df_test_reduced['BULLET_POINTS'].apply(to_lower)"
      ],
      "metadata": {
        "trusted": true,
        "id": "K_4cOFAMtAIw"
      },
      "execution_count": null,
      "outputs": []
    },
    {
      "cell_type": "code",
      "source": [
        "var = sparse_merge.shape[1]"
      ],
      "metadata": {
        "id": "p8ybB5ZXvIcM"
      },
      "execution_count": null,
      "outputs": []
    },
    {
      "cell_type": "code",
      "source": [
        "tv = TfidfVectorizer(max_features = var//3, ngram_range=(1, 2), stop_words='english')\n",
        "X_description = tv.fit_transform(df_test_reduced['DESCRIPTION'])\n",
        "X_bullet = tv.fit_transform(df_test_reduced['BULLET_POINTS'])"
      ],
      "metadata": {
        "trusted": true,
        "id": "jYsxgs5ptAIw"
      },
      "execution_count": null,
      "outputs": []
    },
    {
      "cell_type": "code",
      "source": [
        "cv = CountVectorizer(min_df=10, max_features=(var-(2*var//3))\n",
        "X_name = cv.fit_transform(df_test_reduced['TITLE'])"
      ],
      "metadata": {
        "trusted": true,
        "id": "hF5s_vhutAIw"
      },
      "execution_count": null,
      "outputs": []
    },
    {
      "cell_type": "code",
      "source": [
        "print('Title shape:', (X_name).shape)\n",
        "print('Description shape:', (X_description).shape)\n",
        "print('Bullet points shape:', (X_bullet).shape)"
      ],
      "metadata": {
        "trusted": true,
        "id": "y54GokVDtAIx"
      },
      "execution_count": null,
      "outputs": []
    },
    {
      "cell_type": "code",
      "source": [
        "tfidf_weights = dict(zip(tv.get_feature_names_out(), tv.idf_))\n",
        "tfidf_weights = pd.DataFrame(columns = ['tfidf_weights']).from_dict(dict(tfidf_weights), orient = 'index')\n",
        "tfidf_weights.columns = ['tfidf_weights']\n",
        "\n",
        "tfidf_weights.sort_values(by=['tfidf_weights'], ascending=False).head(10)"
      ],
      "metadata": {
        "trusted": true,
        "id": "yiXj_73RtAIx"
      },
      "execution_count": null,
      "outputs": []
    },
    {
      "cell_type": "code",
      "source": [
        "sparse_merge_test = hstack((X_description, X_bullet, X_name)).tocsr()\n",
        "print(sparse_merge_test.shape)"
      ],
      "metadata": {
        "trusted": true,
        "id": "6h0b4QcPtAIx"
      },
      "execution_count": null,
      "outputs": []
    },
    {
      "cell_type": "code",
      "source": [
        "target_pred_test = model.predict(sparse_merge_test.toarray())"
      ],
      "metadata": {
        "trusted": true,
        "id": "wGH-LMHLtAIx"
      },
      "execution_count": null,
      "outputs": []
    },
    {
      "cell_type": "code",
      "source": [
        "finaly = pd.DataFrame(np.expm1(target_pred_test), columns = ['PRODUCT_LENGTH'])\n",
        "finaly['PRODUCT_ID'] = df_test_reduced['PRODUCT_ID']\n",
        "finaly=finaly.set_index('PRODUCT_ID')"
      ],
      "metadata": {
        "id": "hST4Ic9GtAIx"
      },
      "execution_count": null,
      "outputs": []
    },
    {
      "cell_type": "code",
      "source": [
        "finaly.to_csv('entropy_preds.csv')"
      ],
      "metadata": {
        "id": "PGR0PH3cwNS-"
      },
      "execution_count": null,
      "outputs": []
    }
  ]
}